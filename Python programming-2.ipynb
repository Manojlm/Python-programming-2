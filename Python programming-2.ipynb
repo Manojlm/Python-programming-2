{
 "cells": [
  {
   "cell_type": "markdown",
   "id": "8f4aad20",
   "metadata": {},
   "source": [
    "## Chapter -5 Conditional Logic"
   ]
  },
  {
   "cell_type": "markdown",
   "id": "33825616",
   "metadata": {},
   "source": [
    "### 5.[a] Compare values"
   ]
  },
  {
   "cell_type": "code",
   "execution_count": 26,
   "id": "eda30bff",
   "metadata": {
    "scrolled": true
   },
   "outputs": [
    {
     "data": {
      "text/plain": [
       "True"
      ]
     },
     "execution_count": 26,
     "metadata": {},
     "output_type": "execute_result"
    }
   ],
   "source": [
    "5 == 5"
   ]
  },
  {
   "cell_type": "code",
   "execution_count": 27,
   "id": "feb55494",
   "metadata": {},
   "outputs": [],
   "source": [
    "5.5 == '5.5'"
   ]
  },
  {
   "cell_type": "code",
   "execution_count": 28,
   "id": "6b450895",
   "metadata": {},
   "outputs": [],
   "source": [
    "'a' == 'a'"
   ]
  },
  {
   "cell_type": "code",
   "execution_count": 29,
   "id": "fc93620f",
   "metadata": {},
   "outputs": [],
   "source": [
    "7 == 5"
   ]
  },
  {
   "cell_type": "code",
   "execution_count": 30,
   "id": "1dd69e73",
   "metadata": {},
   "outputs": [],
   "source": [
    "7 !=5"
   ]
  },
  {
   "cell_type": "code",
   "execution_count": 31,
   "id": "f7d8729c",
   "metadata": {},
   "outputs": [],
   "source": [
    "10%2 "
   ]
  },
  {
   "cell_type": "code",
   "execution_count": 32,
   "id": "3938c090",
   "metadata": {},
   "outputs": [],
   "source": [
    "10%2 == 0"
   ]
  },
  {
   "cell_type": "markdown",
   "id": "bb2d04fd",
   "metadata": {},
   "source": [
    "## 5[b] Add some logic\n",
    "#### >>>>> Different Operators in Python <<<<<<<<<<\n",
    "#### AND Operator - will return True, only if both conditions is True.\n",
    "#### OR Operator - will return True if anyone condition is True.\n",
    "#### IN operator - we use to check if that particular word is available in my data.\n",
    "#### NOT IN operator - we use to check if that particular word is not available in my data."
   ]
  },
  {
   "cell_type": "code",
   "execution_count": 33,
   "id": "28f06f51",
   "metadata": {},
   "outputs": [],
   "source": [
    "maths = 100\n",
    "science = 97\n",
    "physics = 95"
   ]
  },
  {
   "cell_type": "code",
   "execution_count": 34,
   "id": "1a7e7515",
   "metadata": {},
   "outputs": [],
   "source": [
    "maths > physics"
   ]
  },
  {
   "cell_type": "code",
   "execution_count": 35,
   "id": "7c0e5021",
   "metadata": {},
   "outputs": [],
   "source": [
    "maths < science"
   ]
  },
  {
   "cell_type": "code",
   "execution_count": 36,
   "id": "f4c043a4",
   "metadata": {},
   "outputs": [],
   "source": [
    "science > physics and maths < science"
   ]
  },
  {
   "cell_type": "code",
   "execution_count": 37,
   "id": "3ae04b69",
   "metadata": {},
   "outputs": [],
   "source": [
    "science > physics and maths > science"
   ]
  },
  {
   "cell_type": "code",
   "execution_count": 38,
   "id": "45d13b76",
   "metadata": {},
   "outputs": [],
   "source": [
    "physics < science or science > maths"
   ]
  },
  {
   "cell_type": "code",
   "execution_count": 39,
   "id": "96e3d856",
   "metadata": {},
   "outputs": [],
   "source": [
    "physics > maths or science < maths"
   ]
  },
  {
   "cell_type": "code",
   "execution_count": 40,
   "id": "5c196e1f",
   "metadata": {},
   "outputs": [],
   "source": [
    "physics > maths or physics > science"
   ]
  },
  {
   "cell_type": "code",
   "execution_count": 41,
   "id": "9556521b",
   "metadata": {},
   "outputs": [],
   "source": [
    "feedback = \"alwasy keep focus on my work and my goal because if do more practice, practice, practice on my work and goal then i will succsed\""
   ]
  },
  {
   "cell_type": "code",
   "execution_count": 42,
   "id": "372d7139",
   "metadata": {},
   "outputs": [],
   "source": [
    "\"very\" in feedback"
   ]
  },
  {
   "cell_type": "code",
   "execution_count": 43,
   "id": "6423ac4b",
   "metadata": {},
   "outputs": [],
   "source": [
    "\"course\" in feedback"
   ]
  },
  {
   "cell_type": "code",
   "execution_count": 44,
   "id": "26a573e9",
   "metadata": {},
   "outputs": [],
   "source": [
    "\"if\" in feedback"
   ]
  },
  {
   "cell_type": "code",
   "execution_count": 45,
   "id": "d1c6aeeb",
   "metadata": {},
   "outputs": [],
   "source": [
    "\"work\" in feedback"
   ]
  },
  {
   "cell_type": "code",
   "execution_count": 46,
   "id": "af66ae75",
   "metadata": {
    "scrolled": true
   },
   "outputs": [],
   "source": [
    "\"work\" not in feedback"
   ]
  },
  {
   "cell_type": "code",
   "execution_count": 47,
   "id": "91a8de07",
   "metadata": {
    "scrolled": true
   },
   "outputs": [],
   "source": [
    "\"very\" not in feedback"
   ]
  },
  {
   "cell_type": "code",
   "execution_count": 48,
   "id": "1a824403",
   "metadata": {},
   "outputs": [],
   "source": [
    "\"aim\" not in feedback"
   ]
  },
  {
   "cell_type": "code",
   "execution_count": 49,
   "id": "c5f881c7",
   "metadata": {},
   "outputs": [],
   "source": [
    "\"practice\" not in feedback"
   ]
  },
  {
   "cell_type": "markdown",
   "id": "70e974fa",
   "metadata": {},
   "source": [
    "## 5.[c] control flow of the program"
   ]
  },
  {
   "cell_type": "code",
   "execution_count": 58,
   "id": "f589fa89",
   "metadata": {},
   "outputs": [
    {
     "name": "stdout",
     "output_type": "stream",
     "text": [
      "Password : gani\n",
      "Week password\n"
     ]
    }
   ],
   "source": [
    "user_input = input('Password : ')\n",
    "\n",
    "if len(user_input)<5:\n",
    "    print('Week password')\n",
    "else:\n",
    "    \n",
    "    print('Strong password')"
   ]
  },
  {
   "cell_type": "code",
   "execution_count": 68,
   "id": "e1796480",
   "metadata": {},
   "outputs": [
    {
     "name": "stdout",
     "output_type": "stream",
     "text": [
      "Password : abhishek\n",
      "Strong Password\n"
     ]
    }
   ],
   "source": [
    "user_password = input('Password : ')\n",
    "\n",
    "if len(user_password)<5:\n",
    "    print('Weak Password')\n",
    "else:\n",
    "    print('Strong Password')"
   ]
  },
  {
   "cell_type": "code",
   "execution_count": 67,
   "id": "7ac31037",
   "metadata": {},
   "outputs": [
    {
     "name": "stdout",
     "output_type": "stream",
     "text": [
      "Password : appu\n",
      "Week password\n"
     ]
    }
   ],
   "source": [
    "password_2 = input('Password : ')\n",
    "\n",
    "if len(password_2)<5:\n",
    "    print('Week password')\n",
    "elif 5<=len(password_2)<10:\n",
    "    print('moderate password')\n",
    "else:\n",
    "    print('strng password')"
   ]
  },
  {
   "cell_type": "markdown",
   "id": "c9fcebf8",
   "metadata": {},
   "source": [
    "## 5.[d] Find the factors of number"
   ]
  },
  {
   "cell_type": "markdown",
   "id": "0a81d182",
   "metadata": {},
   "source": [
    "1. Get an input from the user.\n",
    "2. If user enters 10 - the output should be 1,2,5,10."
   ]
  },
  {
   "cell_type": "code",
   "execution_count": 70,
   "id": "790d335b",
   "metadata": {},
   "outputs": [
    {
     "name": "stdout",
     "output_type": "stream",
     "text": [
      "please enter the number: 25\n",
      "1\n",
      "5\n",
      "25\n"
     ]
    }
   ],
   "source": [
    "user_input = int(input(\"please enter the number: \"))\n",
    "\n",
    "# 1,2,3,4,5,6,7,8,9,10.\n",
    "for i in range(1,user_input+1):\n",
    "    if user_input%i == 0:\n",
    "        print(i)"
   ]
  }
 ],
 "metadata": {
  "kernelspec": {
   "display_name": "Python 3 (ipykernel)",
   "language": "python",
   "name": "python3"
  },
  "language_info": {
   "codemirror_mode": {
    "name": "ipython",
    "version": 3
   },
   "file_extension": ".py",
   "mimetype": "text/x-python",
   "name": "python",
   "nbconvert_exporter": "python",
   "pygments_lexer": "ipython3",
   "version": "3.11.3"
  }
 },
 "nbformat": 4,
 "nbformat_minor": 5
}
